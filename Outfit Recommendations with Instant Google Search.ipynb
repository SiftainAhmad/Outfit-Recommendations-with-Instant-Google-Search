{
 "cells": [
  {
   "cell_type": "markdown",
   "id": "fcbec942-3ad7-4908-8ae1-51e8f1201035",
   "metadata": {},
   "source": [
    "### Importing Basic Libraries"
   ]
  },
  {
   "cell_type": "code",
   "execution_count": 1,
   "id": "d2515f59-cb74-4cb8-aa2a-f3489c94814b",
   "metadata": {},
   "outputs": [],
   "source": [
    "import numpy as np\n",
    "import pandas as pd\n",
    "import matplotlib.pyplot as plt\n",
    "import seaborn as sns"
   ]
  },
  {
   "cell_type": "markdown",
   "id": "a097d5b4-b9f2-4419-bb9a-e912ffc4f2dd",
   "metadata": {},
   "source": [
    "### Uploading the data"
   ]
  },
  {
   "cell_type": "code",
   "execution_count": 2,
   "id": "7547db5c-52c3-4158-9e30-5b345fd1d824",
   "metadata": {},
   "outputs": [],
   "source": [
    "df=pd.read_csv('Luxury_Products_Apparel_Data.csv')"
   ]
  },
  {
   "cell_type": "code",
   "execution_count": 3,
   "id": "ca083b03-bb2b-47eb-9037-424240607b22",
   "metadata": {},
   "outputs": [
    {
     "data": {
      "text/html": [
       "<div>\n",
       "<style scoped>\n",
       "    .dataframe tbody tr th:only-of-type {\n",
       "        vertical-align: middle;\n",
       "    }\n",
       "\n",
       "    .dataframe tbody tr th {\n",
       "        vertical-align: top;\n",
       "    }\n",
       "\n",
       "    .dataframe thead th {\n",
       "        text-align: right;\n",
       "    }\n",
       "</style>\n",
       "<table border=\"1\" class=\"dataframe\">\n",
       "  <thead>\n",
       "    <tr style=\"text-align: right;\">\n",
       "      <th></th>\n",
       "      <th>Unnamed: 0</th>\n",
       "      <th>Category</th>\n",
       "      <th>SubCategory</th>\n",
       "      <th>ProductName</th>\n",
       "      <th>Description</th>\n",
       "    </tr>\n",
       "  </thead>\n",
       "  <tbody>\n",
       "    <tr>\n",
       "      <th>0</th>\n",
       "      <td>8037</td>\n",
       "      <td>Accessories</td>\n",
       "      <td>Bags</td>\n",
       "      <td>\"Prada Striped Shell Belt Bag\"</td>\n",
       "      <td>\"One of Prada's most functional designs, this ...</td>\n",
       "    </tr>\n",
       "    <tr>\n",
       "      <th>1</th>\n",
       "      <td>13670</td>\n",
       "      <td>Accessories</td>\n",
       "      <td>Socks</td>\n",
       "      <td>\"Falke - Lhasa Wool And Cashmere-blend Socks -...</td>\n",
       "      <td>\"Falke - Casual yet luxurious, Falke's dark na...</td>\n",
       "    </tr>\n",
       "    <tr>\n",
       "      <th>2</th>\n",
       "      <td>13983</td>\n",
       "      <td>Suits</td>\n",
       "      <td>Tuxedos</td>\n",
       "      <td>\"peak lapel tuxedo suit jacket\"</td>\n",
       "      <td>\"White and black linen blend peak lapel tuxedo...</td>\n",
       "    </tr>\n",
       "    <tr>\n",
       "      <th>3</th>\n",
       "      <td>12081</td>\n",
       "      <td>Accessories</td>\n",
       "      <td>Gloves</td>\n",
       "      <td>\"Thom Browne Navy 4-Bar Rib Gloves\"</td>\n",
       "      <td>\"Pair of rib knit cashmere gloves in navy. Sig...</td>\n",
       "    </tr>\n",
       "    <tr>\n",
       "      <th>4</th>\n",
       "      <td>15617</td>\n",
       "      <td>Accessories</td>\n",
       "      <td>Cufflinks</td>\n",
       "      <td>\"Alice Made This - Bayley Round Patina-brass C...</td>\n",
       "      <td>\"Alice Made This - Made in the UK, these teal ...</td>\n",
       "    </tr>\n",
       "  </tbody>\n",
       "</table>\n",
       "</div>"
      ],
      "text/plain": [
       "   Unnamed: 0     Category SubCategory  \\\n",
       "0        8037  Accessories        Bags   \n",
       "1       13670  Accessories       Socks   \n",
       "2       13983        Suits     Tuxedos   \n",
       "3       12081  Accessories      Gloves   \n",
       "4       15617  Accessories   Cufflinks   \n",
       "\n",
       "                                         ProductName  \\\n",
       "0                     \"Prada Striped Shell Belt Bag\"   \n",
       "1  \"Falke - Lhasa Wool And Cashmere-blend Socks -...   \n",
       "2                    \"peak lapel tuxedo suit jacket\"   \n",
       "3                \"Thom Browne Navy 4-Bar Rib Gloves\"   \n",
       "4  \"Alice Made This - Bayley Round Patina-brass C...   \n",
       "\n",
       "                                         Description  \n",
       "0  \"One of Prada's most functional designs, this ...  \n",
       "1  \"Falke - Casual yet luxurious, Falke's dark na...  \n",
       "2  \"White and black linen blend peak lapel tuxedo...  \n",
       "3  \"Pair of rib knit cashmere gloves in navy. Sig...  \n",
       "4  \"Alice Made This - Made in the UK, these teal ...  "
      ]
     },
     "execution_count": 3,
     "metadata": {},
     "output_type": "execute_result"
    }
   ],
   "source": [
    "df.head()"
   ]
  },
  {
   "cell_type": "code",
   "execution_count": 4,
   "id": "583fd667-8a33-41de-85e5-f5c5105a0024",
   "metadata": {},
   "outputs": [
    {
     "name": "stdout",
     "output_type": "stream",
     "text": [
      "<class 'pandas.core.frame.DataFrame'>\n",
      "RangeIndex: 5000 entries, 0 to 4999\n",
      "Data columns (total 5 columns):\n",
      " #   Column       Non-Null Count  Dtype \n",
      "---  ------       --------------  ----- \n",
      " 0   Unnamed: 0   5000 non-null   int64 \n",
      " 1   Category     4963 non-null   object\n",
      " 2   SubCategory  4963 non-null   object\n",
      " 3   ProductName  5000 non-null   object\n",
      " 4   Description  5000 non-null   object\n",
      "dtypes: int64(1), object(4)\n",
      "memory usage: 195.4+ KB\n"
     ]
    }
   ],
   "source": [
    "df.info()"
   ]
  },
  {
   "cell_type": "markdown",
   "id": "5134537d-7e26-4a4b-974d-fe37db7b8fe9",
   "metadata": {},
   "source": [
    "### Data Cleaning"
   ]
  },
  {
   "cell_type": "code",
   "execution_count": 5,
   "id": "d60304ba-1bac-416d-840c-533962bbec85",
   "metadata": {},
   "outputs": [
    {
     "data": {
      "text/plain": [
       "Unnamed: 0      0\n",
       "Category       37\n",
       "SubCategory    37\n",
       "ProductName     0\n",
       "Description     0\n",
       "dtype: int64"
      ]
     },
     "execution_count": 5,
     "metadata": {},
     "output_type": "execute_result"
    }
   ],
   "source": [
    "df.isnull().sum()"
   ]
  },
  {
   "cell_type": "code",
   "execution_count": 6,
   "id": "d314f525-043f-4b90-83be-35eb2b499871",
   "metadata": {},
   "outputs": [],
   "source": [
    "df=df.dropna()"
   ]
  },
  {
   "cell_type": "code",
   "execution_count": 7,
   "id": "0e6c5f67-1075-4541-a03e-de8585cc9856",
   "metadata": {},
   "outputs": [
    {
     "name": "stdout",
     "output_type": "stream",
     "text": [
      "<class 'pandas.core.frame.DataFrame'>\n",
      "Index: 4963 entries, 0 to 4999\n",
      "Data columns (total 5 columns):\n",
      " #   Column       Non-Null Count  Dtype \n",
      "---  ------       --------------  ----- \n",
      " 0   Unnamed: 0   4963 non-null   int64 \n",
      " 1   Category     4963 non-null   object\n",
      " 2   SubCategory  4963 non-null   object\n",
      " 3   ProductName  4963 non-null   object\n",
      " 4   Description  4963 non-null   object\n",
      "dtypes: int64(1), object(4)\n",
      "memory usage: 232.6+ KB\n"
     ]
    }
   ],
   "source": [
    "df.info()"
   ]
  },
  {
   "cell_type": "code",
   "execution_count": 8,
   "id": "db8110fc-cb3c-461b-bc9e-53cb56b7fa8e",
   "metadata": {},
   "outputs": [
    {
     "data": {
      "text/plain": [
       "0"
      ]
     },
     "execution_count": 8,
     "metadata": {},
     "output_type": "execute_result"
    }
   ],
   "source": [
    "df.duplicated().sum()"
   ]
  },
  {
   "cell_type": "code",
   "execution_count": 9,
   "id": "42bce5f0-3088-450a-801e-998dd6ecd3e1",
   "metadata": {},
   "outputs": [
    {
     "data": {
      "text/html": [
       "<div>\n",
       "<style scoped>\n",
       "    .dataframe tbody tr th:only-of-type {\n",
       "        vertical-align: middle;\n",
       "    }\n",
       "\n",
       "    .dataframe tbody tr th {\n",
       "        vertical-align: top;\n",
       "    }\n",
       "\n",
       "    .dataframe thead th {\n",
       "        text-align: right;\n",
       "    }\n",
       "</style>\n",
       "<table border=\"1\" class=\"dataframe\">\n",
       "  <thead>\n",
       "    <tr style=\"text-align: right;\">\n",
       "      <th></th>\n",
       "      <th>Unnamed: 0</th>\n",
       "    </tr>\n",
       "  </thead>\n",
       "  <tbody>\n",
       "    <tr>\n",
       "      <th>count</th>\n",
       "      <td>4963.000000</td>\n",
       "    </tr>\n",
       "    <tr>\n",
       "      <th>mean</th>\n",
       "      <td>9303.044328</td>\n",
       "    </tr>\n",
       "    <tr>\n",
       "      <th>std</th>\n",
       "      <td>5355.379981</td>\n",
       "    </tr>\n",
       "    <tr>\n",
       "      <th>min</th>\n",
       "      <td>0.000000</td>\n",
       "    </tr>\n",
       "    <tr>\n",
       "      <th>25%</th>\n",
       "      <td>4727.000000</td>\n",
       "    </tr>\n",
       "    <tr>\n",
       "      <th>50%</th>\n",
       "      <td>9163.000000</td>\n",
       "    </tr>\n",
       "    <tr>\n",
       "      <th>75%</th>\n",
       "      <td>13957.000000</td>\n",
       "    </tr>\n",
       "    <tr>\n",
       "      <th>max</th>\n",
       "      <td>18715.000000</td>\n",
       "    </tr>\n",
       "  </tbody>\n",
       "</table>\n",
       "</div>"
      ],
      "text/plain": [
       "         Unnamed: 0\n",
       "count   4963.000000\n",
       "mean    9303.044328\n",
       "std     5355.379981\n",
       "min        0.000000\n",
       "25%     4727.000000\n",
       "50%     9163.000000\n",
       "75%    13957.000000\n",
       "max    18715.000000"
      ]
     },
     "execution_count": 9,
     "metadata": {},
     "output_type": "execute_result"
    }
   ],
   "source": [
    "df.describe()"
   ]
  },
  {
   "cell_type": "code",
   "execution_count": 10,
   "id": "59330dc4-a7b7-401b-89e8-b488fbebc84f",
   "metadata": {},
   "outputs": [
    {
     "data": {
      "text/html": [
       "<div>\n",
       "<style scoped>\n",
       "    .dataframe tbody tr th:only-of-type {\n",
       "        vertical-align: middle;\n",
       "    }\n",
       "\n",
       "    .dataframe tbody tr th {\n",
       "        vertical-align: top;\n",
       "    }\n",
       "\n",
       "    .dataframe thead th {\n",
       "        text-align: right;\n",
       "    }\n",
       "</style>\n",
       "<table border=\"1\" class=\"dataframe\">\n",
       "  <thead>\n",
       "    <tr style=\"text-align: right;\">\n",
       "      <th></th>\n",
       "      <th>Unnamed: 0</th>\n",
       "      <th>Category</th>\n",
       "      <th>SubCategory</th>\n",
       "      <th>ProductName</th>\n",
       "      <th>Description</th>\n",
       "    </tr>\n",
       "  </thead>\n",
       "  <tbody>\n",
       "    <tr>\n",
       "      <th>0</th>\n",
       "      <td>8037</td>\n",
       "      <td>Accessories</td>\n",
       "      <td>Bags</td>\n",
       "      <td>\"Prada Striped Shell Belt Bag\"</td>\n",
       "      <td>\"One of Prada's most functional designs, this ...</td>\n",
       "    </tr>\n",
       "    <tr>\n",
       "      <th>1</th>\n",
       "      <td>13670</td>\n",
       "      <td>Accessories</td>\n",
       "      <td>Socks</td>\n",
       "      <td>\"Falke - Lhasa Wool And Cashmere-blend Socks -...</td>\n",
       "      <td>\"Falke - Casual yet luxurious, Falke's dark na...</td>\n",
       "    </tr>\n",
       "    <tr>\n",
       "      <th>2</th>\n",
       "      <td>13983</td>\n",
       "      <td>Suits</td>\n",
       "      <td>Tuxedos</td>\n",
       "      <td>\"peak lapel tuxedo suit jacket\"</td>\n",
       "      <td>\"White and black linen blend peak lapel tuxedo...</td>\n",
       "    </tr>\n",
       "    <tr>\n",
       "      <th>3</th>\n",
       "      <td>12081</td>\n",
       "      <td>Accessories</td>\n",
       "      <td>Gloves</td>\n",
       "      <td>\"Thom Browne Navy 4-Bar Rib Gloves\"</td>\n",
       "      <td>\"Pair of rib knit cashmere gloves in navy. Sig...</td>\n",
       "    </tr>\n",
       "    <tr>\n",
       "      <th>4</th>\n",
       "      <td>15617</td>\n",
       "      <td>Accessories</td>\n",
       "      <td>Cufflinks</td>\n",
       "      <td>\"Alice Made This - Bayley Round Patina-brass C...</td>\n",
       "      <td>\"Alice Made This - Made in the UK, these teal ...</td>\n",
       "    </tr>\n",
       "  </tbody>\n",
       "</table>\n",
       "</div>"
      ],
      "text/plain": [
       "   Unnamed: 0     Category SubCategory  \\\n",
       "0        8037  Accessories        Bags   \n",
       "1       13670  Accessories       Socks   \n",
       "2       13983        Suits     Tuxedos   \n",
       "3       12081  Accessories      Gloves   \n",
       "4       15617  Accessories   Cufflinks   \n",
       "\n",
       "                                         ProductName  \\\n",
       "0                     \"Prada Striped Shell Belt Bag\"   \n",
       "1  \"Falke - Lhasa Wool And Cashmere-blend Socks -...   \n",
       "2                    \"peak lapel tuxedo suit jacket\"   \n",
       "3                \"Thom Browne Navy 4-Bar Rib Gloves\"   \n",
       "4  \"Alice Made This - Bayley Round Patina-brass C...   \n",
       "\n",
       "                                         Description  \n",
       "0  \"One of Prada's most functional designs, this ...  \n",
       "1  \"Falke - Casual yet luxurious, Falke's dark na...  \n",
       "2  \"White and black linen blend peak lapel tuxedo...  \n",
       "3  \"Pair of rib knit cashmere gloves in navy. Sig...  \n",
       "4  \"Alice Made This - Made in the UK, these teal ...  "
      ]
     },
     "execution_count": 10,
     "metadata": {},
     "output_type": "execute_result"
    }
   ],
   "source": [
    "df.head()"
   ]
  },
  {
   "cell_type": "code",
   "execution_count": 11,
   "id": "c8a5875a-6ba5-467e-b0f3-a0af6aef2c83",
   "metadata": {},
   "outputs": [],
   "source": [
    "df=df.rename(columns={'Unnamed: 0' : 'ID'})"
   ]
  },
  {
   "cell_type": "code",
   "execution_count": 12,
   "id": "2ba46cee-a42f-4183-aa64-2183cf0ca3b8",
   "metadata": {},
   "outputs": [
    {
     "data": {
      "text/html": [
       "<div>\n",
       "<style scoped>\n",
       "    .dataframe tbody tr th:only-of-type {\n",
       "        vertical-align: middle;\n",
       "    }\n",
       "\n",
       "    .dataframe tbody tr th {\n",
       "        vertical-align: top;\n",
       "    }\n",
       "\n",
       "    .dataframe thead th {\n",
       "        text-align: right;\n",
       "    }\n",
       "</style>\n",
       "<table border=\"1\" class=\"dataframe\">\n",
       "  <thead>\n",
       "    <tr style=\"text-align: right;\">\n",
       "      <th></th>\n",
       "      <th>ID</th>\n",
       "      <th>Category</th>\n",
       "      <th>SubCategory</th>\n",
       "      <th>ProductName</th>\n",
       "      <th>Description</th>\n",
       "    </tr>\n",
       "  </thead>\n",
       "  <tbody>\n",
       "    <tr>\n",
       "      <th>0</th>\n",
       "      <td>8037</td>\n",
       "      <td>Accessories</td>\n",
       "      <td>Bags</td>\n",
       "      <td>\"Prada Striped Shell Belt Bag\"</td>\n",
       "      <td>\"One of Prada's most functional designs, this ...</td>\n",
       "    </tr>\n",
       "    <tr>\n",
       "      <th>1</th>\n",
       "      <td>13670</td>\n",
       "      <td>Accessories</td>\n",
       "      <td>Socks</td>\n",
       "      <td>\"Falke - Lhasa Wool And Cashmere-blend Socks -...</td>\n",
       "      <td>\"Falke - Casual yet luxurious, Falke's dark na...</td>\n",
       "    </tr>\n",
       "    <tr>\n",
       "      <th>2</th>\n",
       "      <td>13983</td>\n",
       "      <td>Suits</td>\n",
       "      <td>Tuxedos</td>\n",
       "      <td>\"peak lapel tuxedo suit jacket\"</td>\n",
       "      <td>\"White and black linen blend peak lapel tuxedo...</td>\n",
       "    </tr>\n",
       "    <tr>\n",
       "      <th>3</th>\n",
       "      <td>12081</td>\n",
       "      <td>Accessories</td>\n",
       "      <td>Gloves</td>\n",
       "      <td>\"Thom Browne Navy 4-Bar Rib Gloves\"</td>\n",
       "      <td>\"Pair of rib knit cashmere gloves in navy. Sig...</td>\n",
       "    </tr>\n",
       "    <tr>\n",
       "      <th>4</th>\n",
       "      <td>15617</td>\n",
       "      <td>Accessories</td>\n",
       "      <td>Cufflinks</td>\n",
       "      <td>\"Alice Made This - Bayley Round Patina-brass C...</td>\n",
       "      <td>\"Alice Made This - Made in the UK, these teal ...</td>\n",
       "    </tr>\n",
       "  </tbody>\n",
       "</table>\n",
       "</div>"
      ],
      "text/plain": [
       "      ID     Category SubCategory  \\\n",
       "0   8037  Accessories        Bags   \n",
       "1  13670  Accessories       Socks   \n",
       "2  13983        Suits     Tuxedos   \n",
       "3  12081  Accessories      Gloves   \n",
       "4  15617  Accessories   Cufflinks   \n",
       "\n",
       "                                         ProductName  \\\n",
       "0                     \"Prada Striped Shell Belt Bag\"   \n",
       "1  \"Falke - Lhasa Wool And Cashmere-blend Socks -...   \n",
       "2                    \"peak lapel tuxedo suit jacket\"   \n",
       "3                \"Thom Browne Navy 4-Bar Rib Gloves\"   \n",
       "4  \"Alice Made This - Bayley Round Patina-brass C...   \n",
       "\n",
       "                                         Description  \n",
       "0  \"One of Prada's most functional designs, this ...  \n",
       "1  \"Falke - Casual yet luxurious, Falke's dark na...  \n",
       "2  \"White and black linen blend peak lapel tuxedo...  \n",
       "3  \"Pair of rib knit cashmere gloves in navy. Sig...  \n",
       "4  \"Alice Made This - Made in the UK, these teal ...  "
      ]
     },
     "execution_count": 12,
     "metadata": {},
     "output_type": "execute_result"
    }
   ],
   "source": [
    "df.head()"
   ]
  },
  {
   "cell_type": "markdown",
   "id": "ec78f5fa-be8d-46f5-891c-8ccfb41c6bb0",
   "metadata": {},
   "source": [
    "### Some plots"
   ]
  },
  {
   "cell_type": "code",
   "execution_count": 13,
   "id": "517ad416-7032-4c9e-9688-a80893532b7a",
   "metadata": {},
   "outputs": [],
   "source": [
    "# Calculate frequencies for each column\n",
    "category_freq = df['Category'].value_counts()\n",
    "subcategory_freq = df['SubCategory'].value_counts()\n",
    "productname_freq = df['ProductName'].value_counts()\n",
    "description_freq = df['Description'].value_counts()"
   ]
  },
  {
   "cell_type": "code",
   "execution_count": 14,
   "id": "0b3c4144-8376-48d3-afab-81d2be2ad3d3",
   "metadata": {},
   "outputs": [
    {
     "name": "stdout",
     "output_type": "stream",
     "text": [
      "category_freq      : 10\n",
      "subcategory_freq   : 42\n",
      "productname_freq)  : 4353\n",
      "description_freq   : 4453\n"
     ]
    }
   ],
   "source": [
    "#Unique values of each columns\n",
    "\n",
    "print(f\"category_freq      : {len(category_freq)}\")\n",
    "print(f\"subcategory_freq   : {len(subcategory_freq)}\")\n",
    "print(f\"productname_freq)  : {len(productname_freq)}\")\n",
    "print(f\"description_freq   : {len(description_freq)}\")\n"
   ]
  },
  {
   "cell_type": "code",
   "execution_count": 15,
   "id": "02967ba3-f08d-4e09-adc5-7e1631e351ad",
   "metadata": {},
   "outputs": [],
   "source": [
    "# Plot frequencies for each column using Seaborn\n",
    "def plot_frequencies(data, title, xlabel, ylabel):\n",
    "    plt.figure(figsize=(10, 6))\n",
    "    sns.barplot(x=data.index, y=data.values, palette='viridis')\n",
    "    plt.title(title)\n",
    "    plt.xlabel(xlabel)\n",
    "    plt.ylabel(ylabel)\n",
    "    plt.xticks(rotation=90)\n",
    "    plt.show()"
   ]
  },
  {
   "cell_type": "code",
   "execution_count": 16,
   "id": "3c4cb4d5-8cff-462e-9cbf-badf5a68b56f",
   "metadata": {},
   "outputs": [
    {
     "data": {
      "image/png": "[encoded data removed]",
      "text/plain": [
       "<Figure size 1000x600 with 1 Axes>"
      ]
     },
     "metadata": {},
     "output_type": "display_data"
    }
   ],
   "source": [
    "# Plot Category Frequencies\n",
    "plot_frequencies(category_freq, 'Category Frequencies', 'Category', 'Frequency')"
   ]
  },
  {
   "cell_type": "code",
   "execution_count": 17,
   "id": "8d79a01b-b7fb-4053-ab38-7343e3c17114",
   "metadata": {},
   "outputs": [
    {
     "data": {
      "image/png": "[encoded data removed]",
      "text/plain": [
       "<Figure size 1000x600 with 1 Axes>"
      ]
     },
     "metadata": {},
     "output_type": "display_data"
    }
   ],
   "source": [
    "# Plot SubCategory Frequencies\n",
    "plot_frequencies(subcategory_freq, 'SubCategory Frequencies', 'SubCategory', 'Frequency')"
   ]
  },
  {
   "cell_type": "code",
   "execution_count": 18,
   "id": "7c036d5e-5401-4147-a839-11a20fb9365f",
   "metadata": {},
   "outputs": [
    {
     "data": {
      "text/plain": [
       "4353"
      ]
     },
     "execution_count": 18,
     "metadata": {},
     "output_type": "execute_result"
    }
   ],
   "source": [
    "len(df['ProductName'].unique())"
   ]
  },
  {
   "cell_type": "code",
   "execution_count": 19,
   "id": "ce170d85-72ae-4071-9bc8-a9e5ccf5522c",
   "metadata": {},
   "outputs": [
    {
     "data": {
      "text/plain": [
       "87.70904694741084"
      ]
     },
     "execution_count": 19,
     "metadata": {},
     "output_type": "execute_result"
    }
   ],
   "source": [
    "len(df['ProductName'].unique())/len(df)*100\n",
    "# Percentage of unique ProductName"
   ]
  },
  {
   "cell_type": "code",
   "execution_count": 20,
   "id": "a552f6be-01fe-4f18-afa7-d253a658e0b0",
   "metadata": {},
   "outputs": [
    {
     "data": {
      "text/plain": [
       "4453"
      ]
     },
     "execution_count": 20,
     "metadata": {},
     "output_type": "execute_result"
    }
   ],
   "source": [
    "len(df['Description'].unique())"
   ]
  },
  {
   "cell_type": "code",
   "execution_count": 21,
   "id": "c953d1a0-dc48-4faa-b036-2fa673279184",
   "metadata": {},
   "outputs": [
    {
     "data": {
      "text/plain": [
       "89.72395728390087"
      ]
     },
     "execution_count": 21,
     "metadata": {},
     "output_type": "execute_result"
    }
   ],
   "source": [
    "len(df['Description'].unique())/len(df)*100\n",
    "# Percentage of unique Description"
   ]
  },
  {
   "cell_type": "code",
   "execution_count": 22,
   "id": "3cba27eb-8534-43cc-ad78-66acf9c1ba01",
   "metadata": {},
   "outputs": [
    {
     "data": {
      "image/png": "[encoded data removed]",
      "text/plain": [
       "<Figure size 1000x600 with 1 Axes>"
      ]
     },
     "metadata": {},
     "output_type": "display_data"
    }
   ],
   "source": [
    "# Plot the histogram of the length of Description\n",
    "plt.figure(figsize=(10, 6))\n",
    "plt.hist(df['Description'].apply(len), bins=25, color='green', edgecolor='black')\n",
    "plt.title('Histogram of Description Lengths')\n",
    "plt.xlabel('Description Length')\n",
    "plt.ylabel('Frequency')\n",
    "plt.show()"
   ]
  },
  {
   "cell_type": "code",
   "execution_count": 23,
   "id": "bf164340-f836-4f63-88d2-dabc7a854f03",
   "metadata": {},
   "outputs": [
    {
     "data": {
      "image/png": "[encoded data removed]",
      "text/plain": [
       "<Figure size 1000x600 with 1 Axes>"
      ]
     },
     "metadata": {},
     "output_type": "display_data"
    }
   ],
   "source": [
    "# Plot the histogram of the length of ProductName\n",
    "plt.figure(figsize=(10, 6))\n",
    "plt.hist(df['ProductName'].apply(len), bins=25, color='green', edgecolor='black')\n",
    "plt.title('Histogram of Description Lengths')\n",
    "plt.xlabel('Description Length')\n",
    "plt.ylabel('Frequency')\n",
    "plt.show()"
   ]
  },
  {
   "cell_type": "markdown",
   "id": "9ad22a39-43a4-437b-b713-aa66e1434edc",
   "metadata": {},
   "source": [
    "### Text Preprocessing"
   ]
  },
  {
   "cell_type": "code",
   "execution_count": 24,
   "id": "93910fcd-b28a-4810-8f23-624e9ffe180a",
   "metadata": {},
   "outputs": [],
   "source": [
    "def preprocess(q):\n",
    "    q = str(q).lower().strip()\n",
    "    contractions = { \n",
    "    \"ain't\": \"am not\",\n",
    "    \"aren't\": \"are not\",\n",
    "    \"can't\": \"can not\",\n",
    "    \"can't've\": \"can not have\",\n",
    "    \"'cause\": \"because\",\n",
    "    \"could've\": \"could have\",\n",
    "    \"couldn't\": \"could not\",\n",
    "    \"couldn't've\": \"could not have\",\n",
    "    \"didn't\": \"did not\",\n",
    "    \"doesn't\": \"does not\",\n",
    "    \"don't\": \"do not\",\n",
    "    \"hadn't\": \"had not\",\n",
    "    \"hadn't've\": \"had not have\",\n",
    "    \"hasn't\": \"has not\",\n",
    "    \"haven't\": \"have not\",\n",
    "    \"he'd\": \"he would\",\n",
    "    \"he'd've\": \"he would have\",\n",
    "    \"he'll\": \"he will\",\n",
    "    \"he'll've\": \"he will have\",\n",
    "    \"he's\": \"he is\",\n",
    "    \"how'd\": \"how did\",\n",
    "    \"how'd'y\": \"how do you\",\n",
    "    \"how'll\": \"how will\",\n",
    "    \"how's\": \"how is\",\n",
    "    \"i'd\": \"i would\",\n",
    "    \"i'd've\": \"i would have\",\n",
    "    \"i'll\": \"i will\",\n",
    "    \"i'll've\": \"i will have\",\n",
    "    \"i'm\": \"i am\",\n",
    "    \"i've\": \"i have\",\n",
    "    \"isn't\": \"is not\",\n",
    "    \"it'd\": \"it would\",\n",
    "    \"it'd've\": \"it would have\",\n",
    "    \"it'll\": \"it will\",\n",
    "    \"it'll've\": \"it will have\",\n",
    "    \"it's\": \"it is\",\n",
    "    \"let's\": \"let us\",\n",
    "    \"ma'am\": \"madam\",\n",
    "    \"mayn't\": \"may not\",\n",
    "    \"might've\": \"might have\",\n",
    "    \"mightn't\": \"might not\",\n",
    "    \"mightn't've\": \"might not have\",\n",
    "    \"must've\": \"must have\",\n",
    "    \"mustn't\": \"must not\",\n",
    "    \"mustn't've\": \"must not have\",\n",
    "    \"needn't\": \"need not\",\n",
    "    \"needn't've\": \"need not have\",\n",
    "    \"o'clock\": \"of the clock\",\n",
    "    \"oughtn't\": \"ought not\",\n",
    "    \"oughtn't've\": \"ought not have\",\n",
    "    \"shan't\": \"shall not\",\n",
    "    \"sha'n't\": \"shall not\",\n",
    "    \"shan't've\": \"shall not have\",\n",
    "    \"she'd\": \"she would\",\n",
    "    \"she'd've\": \"she would have\",\n",
    "    \"she'll\": \"she will\",\n",
    "    \"she'll've\": \"she will have\",\n",
    "    \"she's\": \"she is\",\n",
    "    \"should've\": \"should have\",\n",
    "    \"shouldn't\": \"should not\",\n",
    "    \"shouldn't've\": \"should not have\",\n",
    "    \"so've\": \"so have\",\n",
    "    \"so's\": \"so as\",\n",
    "    \"that'd\": \"that would\",\n",
    "    \"that'd've\": \"that would have\",\n",
    "    \"that's\": \"that is\",\n",
    "    \"there'd\": \"there would\",\n",
    "    \"there'd've\": \"there would have\",\n",
    "    \"there's\": \"there is\",\n",
    "    \"they'd\": \"they would\",\n",
    "    \"they'd've\": \"they would have\",\n",
    "    \"they'll\": \"they will\",\n",
    "    \"they'll've\": \"they will have\",\n",
    "    \"they're\": \"they are\",\n",
    "    \"they've\": \"they have\",\n",
    "    \"to've\": \"to have\",\n",
    "    \"wasn't\": \"was not\",\n",
    "    \"we'd\": \"we would\",\n",
    "    \"we'd've\": \"we would have\",\n",
    "    \"we'll\": \"we will\",\n",
    "    \"we'll've\": \"we will have\",\n",
    "    \"we're\": \"we are\",\n",
    "    \"we've\": \"we have\",\n",
    "    \"weren't\": \"were not\",\n",
    "    \"what'll\": \"what will\",\n",
    "    \"what'll've\": \"what will have\",\n",
    "    \"what're\": \"what are\",\n",
    "    \"what's\": \"what is\",\n",
    "    \"what've\": \"what have\",\n",
    "    \"when's\": \"when is\",\n",
    "    \"when've\": \"when have\",\n",
    "    \"where'd\": \"where did\",\n",
    "    \"where's\": \"where is\",\n",
    "    \"where've\": \"where have\",\n",
    "    \"who'll\": \"who will\",\n",
    "    \"who'll've\": \"who will have\",\n",
    "    \"who's\": \"who is\",\n",
    "    \"who've\": \"who have\",\n",
    "    \"why's\": \"why is\",\n",
    "    \"why've\": \"why have\",\n",
    "    \"will've\": \"will have\",\n",
    "    \"won't\": \"will not\",\n",
    "    \"won't've\": \"will not have\",\n",
    "    \"would've\": \"would have\",\n",
    "    \"wouldn't\": \"would not\",\n",
    "    \"wouldn't've\": \"would not have\",\n",
    "    \"y'all\": \"you all\",\n",
    "    \"y'all'd\": \"you all would\",\n",
    "    \"y'all'd've\": \"you all would have\",\n",
    "    \"y'all're\": \"you all are\",\n",
    "    \"y'all've\": \"you all have\",\n",
    "    \"you'd\": \"you would\",\n",
    "    \"you'd've\": \"you would have\",\n",
    "    \"you'll\": \"you will\",\n",
    "    \"you'll've\": \"you will have\",\n",
    "    \"you're\": \"you are\",\n",
    "    \"you've\": \"you have\"\n",
    "    }\n",
    "\n",
    "    q_decontracted = []\n",
    "\n",
    "    for word in q.split():\n",
    "        if word in contractions:\n",
    "            word = contractions[word]\n",
    "\n",
    "        q_decontracted.append(word)\n",
    "\n",
    "    q = ' '.join(q_decontracted)\n",
    "    q = q.replace(\"'ve\", \" have\")\n",
    "    q = q.replace(\"n't\", \" not\")\n",
    "    q = q.replace(\"'re\", \" are\")\n",
    "    q = q.replace(\"'ll\", \" will\")  \n",
    "    q = q.replace(\"'s\", \" is\")\n",
    "    return q\n",
    "    "
   ]
  },
  {
   "cell_type": "markdown",
   "id": "1138260d-2738-4713-a5bc-1577fcb8ee57",
   "metadata": {},
   "source": [
    "### Applying the function preprocess to the Description column"
   ]
  },
  {
   "cell_type": "code",
   "execution_count": 25,
   "id": "3d50f300-2dd1-4a64-879c-fc408b68d9f5",
   "metadata": {},
   "outputs": [],
   "source": [
    "df['Description'] = df['Description'].apply(preprocess)"
   ]
  },
  {
   "cell_type": "code",
   "execution_count": 26,
   "id": "894bba90-4c5e-48e8-8db5-4e10c4ce57a8",
   "metadata": {},
   "outputs": [
    {
     "data": {
      "text/html": [
       "<div>\n",
       "<style scoped>\n",
       "    .dataframe tbody tr th:only-of-type {\n",
       "        vertical-align: middle;\n",
       "    }\n",
       "\n",
       "    .dataframe tbody tr th {\n",
       "        vertical-align: top;\n",
       "    }\n",
       "\n",
       "    .dataframe thead th {\n",
       "        text-align: right;\n",
       "    }\n",
       "</style>\n",
       "<table border=\"1\" class=\"dataframe\">\n",
       "  <thead>\n",
       "    <tr style=\"text-align: right;\">\n",
       "      <th></th>\n",
       "      <th>ID</th>\n",
       "      <th>Category</th>\n",
       "      <th>SubCategory</th>\n",
       "      <th>ProductName</th>\n",
       "      <th>Description</th>\n",
       "    </tr>\n",
       "  </thead>\n",
       "  <tbody>\n",
       "    <tr>\n",
       "      <th>0</th>\n",
       "      <td>8037</td>\n",
       "      <td>Accessories</td>\n",
       "      <td>Bags</td>\n",
       "      <td>\"Prada Striped Shell Belt Bag\"</td>\n",
       "      <td>\"one of prada is most functional designs, this...</td>\n",
       "    </tr>\n",
       "    <tr>\n",
       "      <th>1</th>\n",
       "      <td>13670</td>\n",
       "      <td>Accessories</td>\n",
       "      <td>Socks</td>\n",
       "      <td>\"Falke - Lhasa Wool And Cashmere-blend Socks -...</td>\n",
       "      <td>\"falke - casual yet luxurious, falke is dark n...</td>\n",
       "    </tr>\n",
       "    <tr>\n",
       "      <th>2</th>\n",
       "      <td>13983</td>\n",
       "      <td>Suits</td>\n",
       "      <td>Tuxedos</td>\n",
       "      <td>\"peak lapel tuxedo suit jacket\"</td>\n",
       "      <td>\"white and black linen blend peak lapel tuxedo...</td>\n",
       "    </tr>\n",
       "    <tr>\n",
       "      <th>3</th>\n",
       "      <td>12081</td>\n",
       "      <td>Accessories</td>\n",
       "      <td>Gloves</td>\n",
       "      <td>\"Thom Browne Navy 4-Bar Rib Gloves\"</td>\n",
       "      <td>\"pair of rib knit cashmere gloves in navy. sig...</td>\n",
       "    </tr>\n",
       "    <tr>\n",
       "      <th>4</th>\n",
       "      <td>15617</td>\n",
       "      <td>Accessories</td>\n",
       "      <td>Cufflinks</td>\n",
       "      <td>\"Alice Made This - Bayley Round Patina-brass C...</td>\n",
       "      <td>\"alice made this - made in the uk, these teal ...</td>\n",
       "    </tr>\n",
       "  </tbody>\n",
       "</table>\n",
       "</div>"
      ],
      "text/plain": [
       "      ID     Category SubCategory  \\\n",
       "0   8037  Accessories        Bags   \n",
       "1  13670  Accessories       Socks   \n",
       "2  13983        Suits     Tuxedos   \n",
       "3  12081  Accessories      Gloves   \n",
       "4  15617  Accessories   Cufflinks   \n",
       "\n",
       "                                         ProductName  \\\n",
       "0                     \"Prada Striped Shell Belt Bag\"   \n",
       "1  \"Falke - Lhasa Wool And Cashmere-blend Socks -...   \n",
       "2                    \"peak lapel tuxedo suit jacket\"   \n",
       "3                \"Thom Browne Navy 4-Bar Rib Gloves\"   \n",
       "4  \"Alice Made This - Bayley Round Patina-brass C...   \n",
       "\n",
       "                                         Description  \n",
       "0  \"one of prada is most functional designs, this...  \n",
       "1  \"falke - casual yet luxurious, falke is dark n...  \n",
       "2  \"white and black linen blend peak lapel tuxedo...  \n",
       "3  \"pair of rib knit cashmere gloves in navy. sig...  \n",
       "4  \"alice made this - made in the uk, these teal ...  "
      ]
     },
     "execution_count": 26,
     "metadata": {},
     "output_type": "execute_result"
    }
   ],
   "source": [
    "df.head()"
   ]
  },
  {
   "cell_type": "markdown",
   "id": "136673d2-d6da-4ca2-a861-878e18d988dc",
   "metadata": {},
   "source": [
    "### TF-IDF Vectorization"
   ]
  },
  {
   "cell_type": "code",
   "execution_count": 27,
   "id": "b40effb1-2da4-4d79-b75c-419c79874c9f",
   "metadata": {},
   "outputs": [],
   "source": [
    "from sklearn.feature_extraction.text import TfidfVectorizer\n",
    "tfidf_vectorizer = TfidfVectorizer(stop_words='english')\n",
    "tfidf_matrix = tfidf_vectorizer.fit_transform(df['Description'])"
   ]
  },
  {
   "cell_type": "markdown",
   "id": "07814f86-443f-470d-a486-c4c0efd15dac",
   "metadata": {},
   "source": [
    "### Cosine Similarity Calculation to get top similar products based on input Description"
   ]
  },
  {
   "cell_type": "code",
   "execution_count": 28,
   "id": "7c33cc69-66fc-45fa-9a0d-4dedf9db6244",
   "metadata": {},
   "outputs": [],
   "source": [
    "from sklearn.metrics.pairwise import cosine_similarity\n",
    "def get_top_similar_products(product_description, tfidf_matrix, top_n=5):\n",
    "    # Vectorize input description\n",
    "    input_vector = tfidf_vectorizer.transform([product_description])\n",
    "    \n",
    "    # Calculate cosine similarity between input vector and all vectors in tfidf_matrix\n",
    "    cosine_similarities = cosine_similarity(input_vector, tfidf_matrix).flatten()\n",
    "    \n",
    "    # Get indices of top similar products\n",
    "    top_indices = cosine_similarities.argsort()[::-1][:top_n]\n",
    "    \n",
    "    # Return top similar products\n",
    "    top_similar_products = df.iloc[top_indices]\n",
    "    \n",
    "    return top_similar_products[['Category', 'SubCategory', 'ProductName']]"
   ]
  },
  {
   "cell_type": "markdown",
   "id": "ad7585c4-9c8a-44b5-8a55-69050ed76c9d",
   "metadata": {},
   "source": [
    "### To generate hyperlink of the ProducName "
   ]
  },
  {
   "cell_type": "code",
   "execution_count": 29,
   "id": "d2bbcc96-1957-497d-a541-b2a9749dbf64",
   "metadata": {},
   "outputs": [],
   "source": [
    "import urllib.parse\n",
    "from IPython.display import display, HTML"
   ]
  },
  {
   "cell_type": "markdown",
   "id": "33572dc1-f717-486e-b786-182a7ab8362a",
   "metadata": {},
   "source": [
    "### Enter the description of the product to get n number of recommended items"
   ]
  },
  {
   "cell_type": "code",
   "execution_count": 30,
   "id": "bd3517af-baaf-4285-b06c-459ec9b45c92",
   "metadata": {},
   "outputs": [
    {
     "name": "stdin",
     "output_type": "stream",
     "text": [
      "Enter the product description:  What should i wear for the marriage ceremony?\n"
     ]
    },
    {
     "data": {
      "text/html": [
       "<h3>Top 5 Similar Products:</h3><table border='1'><tr><th>Category</th><th>Subcategory</th><th>Product Name</th><th>Google Search Link</th></tr><tr><td>Pants</td><td>Pants</td><td>\"x Dickies 1922 trousers\"</td><td><a href='https://www.google.com/search?q=%22x%20Dickies%201922%20trousers%22' target='_blank'>Search</a></td></tr><tr><td>Shoes</td><td>Sneakers</td><td>\"Tennis shoes\"</td><td><a href='https://www.google.com/search?q=%22Tennis%20shoes%22' target='_blank'>Search</a></td></tr><tr><td>Jackets/Coats</td><td>Jackets</td><td>\"Light wool jacket\"</td><td><a href='https://www.google.com/search?q=%22Light%20wool%20jacket%22' target='_blank'>Search</a></td></tr><tr><td>Activewear</td><td>Active Pants</td><td>\"GG Jersey jogging pants\"</td><td><a href='https://www.google.com/search?q=%22GG%20Jersey%20jogging%20pants%22' target='_blank'>Search</a></td></tr><tr><td>Activewear</td><td>Active Pants</td><td>\"GG Jersey jogging pants\"</td><td><a href='https://www.google.com/search?q=%22GG%20Jersey%20jogging%20pants%22' target='_blank'>Search</a></td></tr></table>"
      ],
      "text/plain": [
       "<IPython.core.display.HTML object>"
      ]
     },
     "metadata": {},
     "output_type": "display_data"
    }
   ],
   "source": [
    "# Enter the Description of the product\n",
    "input_description = input(\"Enter the product description: \")\n",
    "\n",
    "# Get top 5 similar products\n",
    "top_similar_products = get_top_similar_products(input_description, tfidf_matrix)\n",
    "\n",
    "# Display results in HTML for Jupyter Notebook\n",
    "html = \"<h3>Top 5 Similar Products:</h3>\"\n",
    "html += \"<table border='1'><tr><th>Category</th><th>Subcategory</th><th>Product Name</th><th>Google Search Link</th></tr>\"\n",
    "for index, row in top_similar_products.iterrows():\n",
    "    product_name = row['ProductName']\n",
    "    search_query = urllib.parse.quote(product_name)\n",
    "    search_url = f\"https://www.google.com/search?q={search_query}\"\n",
    "    html += f\"<tr><td>{row['Category']}</td><td>{row['SubCategory']}</td><td>{row['ProductName']}</td><td><a href='{search_url}' target='_blank'>Search</a></td></tr>\"\n",
    "html += \"</table>\"\n",
    "\n",
    "display(HTML(html))"
   ]
  },
  {
   "cell_type": "code",
   "execution_count": 31,
   "id": "d5f17e3c-5ded-49e7-934e-5a2a8ca051d7",
   "metadata": {},
   "outputs": [
    {
     "name": "stdin",
     "output_type": "stream",
     "text": [
      "Enter the product description:  What should i keep for a trip to Ladakh?\n"
     ]
    },
    {
     "data": {
      "text/html": [
       "<h3>Top 5 Similar Products:</h3><table border='1'><tr><th>Category</th><th>Subcategory</th><th>Product Name</th><th>Google Search Link</th></tr><tr><td>Shoes</td><td>Slides/Slipper</td><td>\"GG Psychedelic print slides\"</td><td><a href='https://www.google.com/search?q=%22GG%20Psychedelic%20print%20slides%22' target='_blank'>Search</a></td></tr><tr><td>Accessories</td><td>Bags</td><td>\"Men's Frye Holden Leather Duffle Bag - Brown\"</td><td><a href='https://www.google.com/search?q=%22Men%27s%20Frye%20Holden%20Leather%20Duffle%20Bag%20-%20Brown%22' target='_blank'>Search</a></td></tr><tr><td>Jackets/Coats</td><td>Vests</td><td>\"Atom LT vest\"</td><td><a href='https://www.google.com/search?q=%22Atom%20LT%20vest%22' target='_blank'>Search</a></td></tr><tr><td>Shoes</td><td>Derbys</td><td>\"Balenciaga Black Croc Strike Derbys\"</td><td><a href='https://www.google.com/search?q=%22Balenciaga%20Black%20Croc%20Strike%20Derbys%22' target='_blank'>Search</a></td></tr><tr><td>Pants</td><td>Shorts</td><td>\"Paul Smith - Tailored Cotton-blend Twill Shorts - Mens - Navy\"</td><td><a href='https://www.google.com/search?q=%22Paul%20Smith%20-%20Tailored%20Cotton-blend%20Twill%20Shorts%20-%20Mens%20-%20Navy%22' target='_blank'>Search</a></td></tr></table>"
      ],
      "text/plain": [
       "<IPython.core.display.HTML object>"
      ]
     },
     "metadata": {},
     "output_type": "display_data"
    }
   ],
   "source": [
    "# Enter the Description of the product\n",
    "input_description = input(\"Enter the product description: \")\n",
    "\n",
    "# Get top 5 similar products\n",
    "top_similar_products = get_top_similar_products(input_description, tfidf_matrix)\n",
    "\n",
    "# Display results in HTML for Jupyter Notebook\n",
    "html = \"<h3>Top 5 Similar Products:</h3>\"\n",
    "html += \"<table border='1'><tr><th>Category</th><th>Subcategory</th><th>Product Name</th><th>Google Search Link</th></tr>\"\n",
    "for index, row in top_similar_products.iterrows():\n",
    "    product_name = row['ProductName']\n",
    "    search_query = urllib.parse.quote(product_name)\n",
    "    search_url = f\"https://www.google.com/search?q={search_query}\"\n",
    "    html += f\"<tr><td>{row['Category']}</td><td>{row['SubCategory']}</td><td>{row['ProductName']}</td><td><a href='{search_url}' target='_blank'>Search</a></td></tr>\"\n",
    "html += \"</table>\"\n",
    "\n",
    "display(HTML(html))"
   ]
  },
  {
   "cell_type": "markdown",
   "id": "cd1e8b08-2e62-42cb-9e81-3365f8ab208a",
   "metadata": {},
   "source": [
    "## Thank You"
   ]
  }
 ],
 "metadata": {
  "kernelspec": {
   "display_name": "Python 3 (ipykernel)",
   "language": "python",
   "name": "python3"
  },
  "language_info": {
   "codemirror_mode": {
    "name": "ipython",
    "version": 3
   },
   "file_extension": ".py",
   "mimetype": "text/x-python",
   "name": "python",
   "nbconvert_exporter": "python",
   "pygments_lexer": "ipython3",
   "version": "3.11.7"
  }
 },
 "nbformat": 4,
 "nbformat_minor": 5
}
